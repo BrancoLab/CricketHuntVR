{
 "cells": [
  {
   "cell_type": "code",
   "execution_count": 1,
   "metadata": {},
   "outputs": [],
   "source": [
    "import numpy as np\n",
    "import matplotlib.pyplot as plt\n",
    "import pandas as pd\n",
    "from pathlib import Path\n",
    "\n",
    "%matplotlib qt5"
   ]
  },
  {
   "cell_type": "code",
   "execution_count": 5,
   "metadata": {},
   "outputs": [],
   "source": [
    "def normdata(arr):\n",
    "    #return arr\n",
    "    return (arr - np.min(arr[1:-1])) / np.max(arr - np.min(arr[1:-1]))"
   ]
  },
  {
   "cell_type": "code",
   "execution_count": 3,
   "metadata": {},
   "outputs": [
    {
     "name": "stderr",
     "output_type": "stream",
     "text": [
      "C:\\Users\\neurogears\\AppData\\Local\\Temp\\ipykernel_10716\\2196118448.py:32: SettingWithCopyWarning: \n",
      "A value is trying to be set on a copy of a slice from a DataFrame\n",
      "\n",
      "See the caveats in the documentation: https://pandas.pydata.org/pandas-docs/stable/user_guide/indexing.html#returning-a-view-versus-a-copy\n",
      "  stream_data[\"Mouse0\"][\"dX\"].iloc[-1] = 0\n",
      "C:\\Users\\neurogears\\AppData\\Local\\Temp\\ipykernel_10716\\2196118448.py:33: SettingWithCopyWarning: \n",
      "A value is trying to be set on a copy of a slice from a DataFrame\n",
      "\n",
      "See the caveats in the documentation: https://pandas.pydata.org/pandas-docs/stable/user_guide/indexing.html#returning-a-view-versus-a-copy\n",
      "  stream_data[\"Mouse0\"][\"dY\"].iloc[-1] = 0\n",
      "C:\\Users\\neurogears\\AppData\\Local\\Temp\\ipykernel_10716\\2196118448.py:34: SettingWithCopyWarning: \n",
      "A value is trying to be set on a copy of a slice from a DataFrame\n",
      "\n",
      "See the caveats in the documentation: https://pandas.pydata.org/pandas-docs/stable/user_guide/indexing.html#returning-a-view-versus-a-copy\n",
      "  stream_data[\"Mouse1\"][\"dX\"].iloc[-1] = 0\n",
      "C:\\Users\\neurogears\\AppData\\Local\\Temp\\ipykernel_10716\\2196118448.py:35: SettingWithCopyWarning: \n",
      "A value is trying to be set on a copy of a slice from a DataFrame\n",
      "\n",
      "See the caveats in the documentation: https://pandas.pydata.org/pandas-docs/stable/user_guide/indexing.html#returning-a-view-versus-a-copy\n",
      "  stream_data[\"Mouse1\"][\"dY\"].iloc[-1] = 0\n",
      "C:\\Users\\neurogears\\AppData\\Local\\Temp\\ipykernel_10716\\2196118448.py:36: SettingWithCopyWarning: \n",
      "A value is trying to be set on a copy of a slice from a DataFrame\n",
      "\n",
      "See the caveats in the documentation: https://pandas.pydata.org/pandas-docs/stable/user_guide/indexing.html#returning-a-view-versus-a-copy\n",
      "  stream_data[\"WinMouse\"][\"dX\"].iloc[-1] = 0\n",
      "C:\\Users\\neurogears\\AppData\\Local\\Temp\\ipykernel_10716\\2196118448.py:37: SettingWithCopyWarning: \n",
      "A value is trying to be set on a copy of a slice from a DataFrame\n",
      "\n",
      "See the caveats in the documentation: https://pandas.pydata.org/pandas-docs/stable/user_guide/indexing.html#returning-a-view-versus-a-copy\n",
      "  stream_data[\"WinMouse\"][\"dY\"].iloc[-1] = 0\n"
     ]
    }
   ],
   "source": [
    "root = Path(r\"C:\\Users\\neurogears\\OneDrive - NeuroGEARS Ltd\\balldata\")\n",
    "root = Path(r\"C:\\Users\\neurogears\\OneDrive - NeuroGEARS Ltd\\balldata\\19-04-2022_16-05-12\")\n",
    "stream_paths = {\n",
    "\"OF_Camera\" : root / \"CameraOpticFlow.csv\",\n",
    "\"Mouse0\" : root / \"MiceData0.csv\",\n",
    "\"Mouse1\" : root / \"MiceData1.csv\",\n",
    "\"OFSensor\" : root / \"OpticFlowSensor.csv\",\n",
    "\"Photodiode\" : root / \"photodiode.csv\",\n",
    "\"PWMTrigger\" : root / \"PWM.csv\",\n",
    "\"WinMouse\" : root/ \"MouseWindows.csv\"\n",
    "}\n",
    "stream_paths\n",
    "\n",
    "stream_data = {}\n",
    "for stream in stream_paths.keys():\n",
    "    stream_data[stream] = pd.read_csv(stream_paths[stream])\n",
    "stream_data\n",
    "\n",
    "##\n",
    "stream_data[\"PWMTrigger\"]\n",
    "\n",
    "stream_data[\"OFSensor\"][\"Seconds\"] = stream_data[\"PWMTrigger\"][\"ToString()\"][0:stream_data[\"OFSensor\"].shape[0]]\n",
    "stream_data[\"OF_Camera\"][\"Seconds\"] = stream_data[\"PWMTrigger\"][\"ToString()\"][0:stream_data[\"OF_Camera\"].shape[0]]\n",
    "\n",
    "stream_data[\"Mouse0\"][\"dX\"] = np.diff(stream_data[\"Mouse0\"][\"X\"], append = 0, axis=0)\n",
    "stream_data[\"Mouse0\"][\"dY\"] = np.diff(stream_data[\"Mouse0\"][\"Y\"], append = 0, axis=0)\n",
    "stream_data[\"Mouse1\"][\"dX\"] = np.diff(stream_data[\"Mouse1\"][\"X\"], append = 0, axis=0)\n",
    "stream_data[\"Mouse1\"][\"dY\"] = np.diff(stream_data[\"Mouse1\"][\"Y\"], append = 0, axis=0)\n",
    "stream_data[\"WinMouse\"][\"dX\"] = np.diff(stream_data[\"WinMouse\"][\"X\"], append = 0, axis=0)\n",
    "stream_data[\"WinMouse\"][\"dY\"] = np.diff(stream_data[\"WinMouse\"][\"Y\"], append = 0, axis=0)\n",
    "\n",
    "stream_data[\"Mouse0\"][\"dX\"].iloc[-1] = 0\n",
    "stream_data[\"Mouse0\"][\"dY\"].iloc[-1] = 0\n",
    "stream_data[\"Mouse1\"][\"dX\"].iloc[-1] = 0\n",
    "stream_data[\"Mouse1\"][\"dY\"].iloc[-1] = 0\n",
    "stream_data[\"WinMouse\"][\"dX\"].iloc[-1] = 0\n",
    "stream_data[\"WinMouse\"][\"dY\"].iloc[-1] = 0\n"
   ]
  },
  {
   "cell_type": "code",
   "execution_count": 7,
   "metadata": {},
   "outputs": [],
   "source": [
    "fig = plt.figure(figsize=(15,8))\n",
    "plt.plot(stream_data[\"Photodiode\"][\"Seconds\"], normdata(stream_data[\"Photodiode\"][\"Value\"]), label = \"Photodiode\")\n",
    "\n",
    "displacement_ofsensor = np.sqrt(\\\n",
    "np.square(stream_data[\"OFSensor\"][\"OF1\"].values) +\\\n",
    "np.square(stream_data[\"OFSensor\"][\"OF2\"].values))\n",
    "\n",
    "plt.plot(stream_data[\"OFSensor\"][\"Seconds\"], normdata(displacement_ofsensor), label = \"OFSensor\")\n",
    "\n",
    "displacement_ofmouse1 = np.sqrt(\\\n",
    "np.square(stream_data[\"Mouse0\"][\"dX\"].values) +\\\n",
    "np.square(stream_data[\"Mouse0\"][\"dY\"].values))\n",
    "\n",
    "plt.plot(stream_data[\"Mouse0\"][\"LatestHarpTS\"], normdata(displacement_ofmouse1), label = \"Mouse1\")\n",
    "\n",
    "displacement_ofmouse2 = np.sqrt(\\\n",
    "np.square(stream_data[\"Mouse1\"][\"dX\"].values) +\\\n",
    "np.square(stream_data[\"Mouse1\"][\"dY\"].values))\n",
    "\n",
    "plt.plot(stream_data[\"Mouse1\"][\"LatestHarpTS\"], normdata(displacement_ofmouse2),  label = \"Mouse2\")\n",
    "\n",
    "displacement_ofwinMouse = np.sqrt(\\\n",
    "np.square(stream_data[\"WinMouse\"][\"dX\"].values) +\\\n",
    "np.square(stream_data[\"WinMouse\"][\"dY\"].values))\n",
    "\n",
    "plt.plot(stream_data[\"WinMouse\"][\"LatestHarpTS\"], normdata(displacement_ofwinMouse),  label = \"WinMouse\")\n",
    "\n",
    "plt.grid()\n",
    "#plt.xlim((9078.8,9079.4))\n",
    "plt.legend()\n",
    "plt.show()\n"
   ]
  },
  {
   "cell_type": "code",
   "execution_count": null,
   "metadata": {},
   "outputs": [],
   "source": []
  },
  {
   "cell_type": "code",
   "execution_count": 10,
   "metadata": {},
   "outputs": [],
   "source": [
    "plt.figure()\n",
    "plt.plot(stream_data[\"OFSensor\"][\"LatestHarpTS\"] - stream_data[\"OFSensor\"][\"Seconds\"], label = \"OFSensor\")\n",
    "plt.plot(stream_data[\"OF_Camera\"][\"Item1.Item2.LatestHarpTS\"] - stream_data[\"OF_Camera\"][\"Seconds\"], label =  \"Camera\")\n",
    "plt.ylabel(\"Δt\")\n",
    "plt.xlabel(\"Matched samples\")\n",
    "plt.legend()\n",
    "plt.show()\n",
    "\n"
   ]
  },
  {
   "cell_type": "code",
   "execution_count": 9,
   "metadata": {},
   "outputs": [],
   "source": [
    "plt.figure()\n",
    "plt.plot(np.diff(stream_data[\"PWMTrigger\"][\"ToString()\"], axis = 0))\n",
    "plt.show()"
   ]
  },
  {
   "cell_type": "code",
   "execution_count": null,
   "metadata": {},
   "outputs": [],
   "source": []
  }
 ],
 "metadata": {
  "interpreter": {
   "hash": "f19fb8b2a0190279f4ae71c3c2a8140b482417031f5ca67c09afcd45c5b79ae3"
  },
  "kernelspec": {
   "display_name": "Python 3.10.2 ('cvenv')",
   "language": "python",
   "name": "python3"
  },
  "language_info": {
   "codemirror_mode": {
    "name": "ipython",
    "version": 3
   },
   "file_extension": ".py",
   "mimetype": "text/x-python",
   "name": "python",
   "nbconvert_exporter": "python",
   "pygments_lexer": "ipython3",
   "version": "3.10.2"
  },
  "orig_nbformat": 4
 },
 "nbformat": 4,
 "nbformat_minor": 2
}
