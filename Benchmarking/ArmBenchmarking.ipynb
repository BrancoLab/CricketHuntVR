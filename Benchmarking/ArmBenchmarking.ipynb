{
 "cells": [
  {
   "cell_type": "code",
   "execution_count": 64,
   "metadata": {},
   "outputs": [],
   "source": [
    "import numpy as np\n",
    "import matplotlib.pyplot as plt\n",
    "import pandas as pd\n",
    "from pathlib import Path\n",
    "import seaborn as sns"
   ]
  },
  {
   "cell_type": "code",
   "execution_count": 65,
   "metadata": {},
   "outputs": [],
   "source": [
    "#General visualization settings\n",
    "sns.set_style('darkgrid') # darkgrid, white grid, dark, white and ticks\n",
    "plt.rc('axes', titlesize=18)     # fontsize of the axes title\n",
    "plt.rc('axes', labelsize=14)    # fontsize of the x and y labels\n",
    "plt.rc('xtick', labelsize=13)    # fontsize of the tick labels\n",
    "plt.rc('ytick', labelsize=13)    # fontsize of the tick labels\n",
    "plt.rc('legend', fontsize=13)    # legend fontsize\n",
    "plt.rc('font', size=13)"
   ]
  },
  {
   "cell_type": "code",
   "execution_count": 66,
   "metadata": {},
   "outputs": [],
   "source": [
    "#Path settings\n",
    "root_path = Path(r\"C:\\Users\\neurogears\\OneDrive - NeuroGEARS Ltd\\CricketPrelemdata\\ArmBenchmarking\")\n",
    "session_id = \"05_06_2022_16_02_29\"\n",
    "session_path = root_path / session_id\n"
   ]
  },
  {
   "cell_type": "markdown",
   "metadata": {},
   "source": [
    "#### SWC-HARP and CF-HARP timing benchmarking"
   ]
  },
  {
   "cell_type": "code",
   "execution_count": 81,
   "metadata": {},
   "outputs": [
    {
     "name": "stdout",
     "output_type": "stream",
     "text": [
      "[0.98192024 0.98870039 0.9791398  0.97840023 0.98842001 0.97871971\n",
      " 0.98880005 0.98867989 0.97863007 0.98921013 0.98883009 0.97833014\n",
      " 0.97907972 0.97859001 0.97846985 0.98912001 0.97901011 0.98863983\n",
      " 0.97898006 0.98863983 0.98875999 0.97874975]\n",
      "Mean±std  :  983.45 [ms] ± 4.92\n"
     ]
    },
    {
     "data": {
      "image/png": "[encoded data removed]",
      "text/plain": [
       "<Figure size 432x288 with 1 Axes>"
      ]
     },
     "metadata": {},
     "output_type": "display_data"
    }
   ],
   "source": [
    "## Compare SWC-HARP and CF-HARP timestamping\n",
    "\n",
    "#Load data from SWC-HARP\n",
    "#Note: ARM gpio event is triggered on a falling edge\n",
    "arm_falling_edge = pd.read_csv(session_path / \"ArmFallingEdgeDetection.csv\")\n",
    "arm_falling_edge = arm_falling_edge[\"ToString()\"].values\n",
    "\n",
    "#Load data from CF-HARP\n",
    "#Note: there is a bug wherein i am using the rising edge of a very short pulse.\n",
    "#Should fix in the future!\n",
    "harp_io = pd.read_csv(session_path / \"BehaviorSynchPulse.csv\")\n",
    "harp_falling_edge = harp_io[\"Seconds\"].values\n",
    "\n",
    "#Calculate the timing difference\n",
    "deltaTS = harp_falling_edge - arm_falling_edge\n",
    "\n",
    "#Plot the distribution of the differences\n",
    "plt.figure()\n",
    "plt.hist(deltaTS*1000)\n",
    "plt.xlabel(\"$t_{HARP} - t_{SWC} [ms]$\")\n",
    "plt.ylabel(\"Trial count\")\n",
    "plt.title(\"Difference in HARP timings\")\n",
    "print(deltaTS)\n",
    "print(\"Mean±std  :  {0:.2f} [ms] ± {1:.2f}\".format(np.mean(deltaTS*1000), np.std(deltaTS*1000)))"
   ]
  },
  {
   "cell_type": "markdown",
   "metadata": {},
   "source": [
    "#### Benchmarking real arm movement vs SWC-HARP instruction\n",
    "- Get a movement metric (trajectory or overall movie energy)\n",
    "- Get the timestamp of the instruction (for now assume everything is well align which will result in a ~1second lag)\n",
    "- Get the closest frames using the PWM timestamps"
   ]
  },
  {
   "cell_type": "code",
   "execution_count": 60,
   "metadata": {},
   "outputs": [],
   "source": [
    "# Load movie energy data\n",
    "movie_energy = pd.read_csv(session_path / \"VideoEnergy.csv\")[\"VideoEnergy\"].values\n",
    "\n",
    "# Load instructions\n",
    "arm_instructions = pd.read_csv(session_path / \"ArmCoords.csv\")\n",
    "arm_instructions.columns = ['Time', 'Magnitude', 'Angle']\n",
    "\n",
    "# Load PWM timestamps\n",
    "pwm_events = pd.read_csv(session_path / \"CameraCentroid.csv\")\n"
   ]
  },
  {
   "cell_type": "code",
   "execution_count": 83,
   "metadata": {},
   "outputs": [
    {
     "name": "stdout",
     "output_type": "stream",
     "text": [
      "0 frames were lost!\n",
      "Index(['Item1.CricketLed.Item1.X', 'Item1.CricketLed.Item1.Y',\n",
      "       'Item1.CricketLed.Item2', 'Item1.JointLed.Item1.X',\n",
      "       'Item1.JointLed.Item1.Y', 'Item1.JointLed.Item2', 'Item2.HarpTimestamp',\n",
      "       'Item2.CameraClock', 'Item2.FrameCounter'],\n",
      "      dtype='object')\n"
     ]
    }
   ],
   "source": [
    "#Sanity check for dropped frames\n",
    "lost_frames = np.diff(pwm_events[\"Item2.FrameCounter\"].values) - 1\n",
    "print(\"{0} frames were lost!\".format(np.sum(lost_frames)))\n",
    "print(pwm_events.columns)\n"
   ]
  },
  {
   "cell_type": "code",
   "execution_count": 112,
   "metadata": {},
   "outputs": [
    {
     "name": "stdout",
     "output_type": "stream",
     "text": [
      "No data for trial 11\n",
      "No data for trial 12\n",
      "No data for trial 13\n",
      "No data for trial 14\n",
      "No data for trial 15\n",
      "No data for trial 16\n",
      "No data for trial 17\n",
      "No data for trial 18\n",
      "No data for trial 19\n",
      "No data for trial 20\n",
      "No data for trial 21\n"
     ]
    },
    {
     "data": {
      "text/plain": [
       "array([-200, 1000])"
      ]
     },
     "execution_count": 112,
     "metadata": {},
     "output_type": "execute_result"
    }
   ],
   "source": [
    "arm_instructions[\"TrialFrame\"] = \"\"\n",
    "for index, row in arm_instructions.iterrows():\n",
    "    #find the frame right after the instruction timestamp\n",
    "    instruction_timestamp = row[\"Time\"] #time of the current instruction (HarpTime)\n",
    "    closest_frame_ts = pwm_events[\"Item2.HarpTimestamp\"] - instruction_timestamp\n",
    "    closest_frame_ts[closest_frame_ts < 0 ] = None\n",
    "    closest_frame_idx = (np.abs(closest_frame_ts)).argmin()\n",
    "    if closest_frame_idx < 0:\n",
    "        print('No data for trial ' + str(index))\n",
    "    arm_instructions.loc[index, \"TrialFrame\"] = closest_frame_idx\n",
    "\n",
    "\n",
    "# collect trial aligned data\n",
    "#simplify and use fs for now...\n",
    "fs = 1.0/np.mean(np.diff(pwm_events[\"Item2.HarpTimestamp\"]))\n",
    "win = (-1, 5) # seconds around instruction timestamp\n",
    "win_frames = np.int32(np.array(win) * fs)\n",
    "win_frames"
   ]
  },
  {
   "cell_type": "code",
   "execution_count": 113,
   "metadata": {},
   "outputs": [
    {
     "data": {
      "text/html": [
       "<div>\n",
       "<style scoped>\n",
       "    .dataframe tbody tr th:only-of-type {\n",
       "        vertical-align: middle;\n",
       "    }\n",
       "\n",
       "    .dataframe tbody tr th {\n",
       "        vertical-align: top;\n",
       "    }\n",
       "\n",
       "    .dataframe thead th {\n",
       "        text-align: right;\n",
       "    }\n",
       "</style>\n",
       "<table border=\"1\" class=\"dataframe\">\n",
       "  <thead>\n",
       "    <tr style=\"text-align: right;\">\n",
       "      <th></th>\n",
       "      <th>Time</th>\n",
       "      <th>Magnitude</th>\n",
       "      <th>Angle</th>\n",
       "      <th>TrialFrame</th>\n",
       "    </tr>\n",
       "  </thead>\n",
       "  <tbody>\n",
       "    <tr>\n",
       "      <th>0</th>\n",
       "      <td>3.734694e+09</td>\n",
       "      <td>0.015000</td>\n",
       "      <td>0.000000</td>\n",
       "      <td>6</td>\n",
       "    </tr>\n",
       "    <tr>\n",
       "      <th>1</th>\n",
       "      <td>3.734694e+09</td>\n",
       "      <td>0.033333</td>\n",
       "      <td>0.000000</td>\n",
       "      <td>1007</td>\n",
       "    </tr>\n",
       "    <tr>\n",
       "      <th>2</th>\n",
       "      <td>3.734694e+09</td>\n",
       "      <td>0.033333</td>\n",
       "      <td>0.571199</td>\n",
       "      <td>2009</td>\n",
       "    </tr>\n",
       "    <tr>\n",
       "      <th>3</th>\n",
       "      <td>3.734694e+09</td>\n",
       "      <td>0.033333</td>\n",
       "      <td>1.142397</td>\n",
       "      <td>3011</td>\n",
       "    </tr>\n",
       "    <tr>\n",
       "      <th>4</th>\n",
       "      <td>3.734694e+09</td>\n",
       "      <td>0.033333</td>\n",
       "      <td>1.713596</td>\n",
       "      <td>4013</td>\n",
       "    </tr>\n",
       "    <tr>\n",
       "      <th>5</th>\n",
       "      <td>3.734694e+09</td>\n",
       "      <td>0.033333</td>\n",
       "      <td>2.284795</td>\n",
       "      <td>5015</td>\n",
       "    </tr>\n",
       "    <tr>\n",
       "      <th>6</th>\n",
       "      <td>3.734694e+09</td>\n",
       "      <td>0.033333</td>\n",
       "      <td>2.855993</td>\n",
       "      <td>6017</td>\n",
       "    </tr>\n",
       "    <tr>\n",
       "      <th>7</th>\n",
       "      <td>3.734694e+09</td>\n",
       "      <td>0.033333</td>\n",
       "      <td>-2.855994</td>\n",
       "      <td>7019</td>\n",
       "    </tr>\n",
       "    <tr>\n",
       "      <th>8</th>\n",
       "      <td>3.734694e+09</td>\n",
       "      <td>0.033333</td>\n",
       "      <td>-2.284795</td>\n",
       "      <td>8021</td>\n",
       "    </tr>\n",
       "    <tr>\n",
       "      <th>9</th>\n",
       "      <td>3.734694e+09</td>\n",
       "      <td>0.033333</td>\n",
       "      <td>-1.713596</td>\n",
       "      <td>9023</td>\n",
       "    </tr>\n",
       "    <tr>\n",
       "      <th>10</th>\n",
       "      <td>3.734694e+09</td>\n",
       "      <td>0.033333</td>\n",
       "      <td>-1.142397</td>\n",
       "      <td>10025</td>\n",
       "    </tr>\n",
       "    <tr>\n",
       "      <th>11</th>\n",
       "      <td>3.734694e+09</td>\n",
       "      <td>0.033333</td>\n",
       "      <td>-0.571199</td>\n",
       "      <td>-1</td>\n",
       "    </tr>\n",
       "    <tr>\n",
       "      <th>12</th>\n",
       "      <td>3.734694e+09</td>\n",
       "      <td>0.033333</td>\n",
       "      <td>0.000000</td>\n",
       "      <td>-1</td>\n",
       "    </tr>\n",
       "    <tr>\n",
       "      <th>13</th>\n",
       "      <td>3.734694e+09</td>\n",
       "      <td>0.066667</td>\n",
       "      <td>0.000000</td>\n",
       "      <td>-1</td>\n",
       "    </tr>\n",
       "    <tr>\n",
       "      <th>14</th>\n",
       "      <td>3.734694e+09</td>\n",
       "      <td>0.066667</td>\n",
       "      <td>0.571199</td>\n",
       "      <td>-1</td>\n",
       "    </tr>\n",
       "    <tr>\n",
       "      <th>15</th>\n",
       "      <td>3.734694e+09</td>\n",
       "      <td>0.066667</td>\n",
       "      <td>1.142397</td>\n",
       "      <td>-1</td>\n",
       "    </tr>\n",
       "    <tr>\n",
       "      <th>16</th>\n",
       "      <td>3.734694e+09</td>\n",
       "      <td>0.066667</td>\n",
       "      <td>1.713596</td>\n",
       "      <td>-1</td>\n",
       "    </tr>\n",
       "    <tr>\n",
       "      <th>17</th>\n",
       "      <td>3.734694e+09</td>\n",
       "      <td>0.066667</td>\n",
       "      <td>2.284795</td>\n",
       "      <td>-1</td>\n",
       "    </tr>\n",
       "    <tr>\n",
       "      <th>18</th>\n",
       "      <td>3.734694e+09</td>\n",
       "      <td>0.066667</td>\n",
       "      <td>2.855993</td>\n",
       "      <td>-1</td>\n",
       "    </tr>\n",
       "    <tr>\n",
       "      <th>19</th>\n",
       "      <td>3.734694e+09</td>\n",
       "      <td>0.066667</td>\n",
       "      <td>-2.855994</td>\n",
       "      <td>-1</td>\n",
       "    </tr>\n",
       "    <tr>\n",
       "      <th>20</th>\n",
       "      <td>3.734694e+09</td>\n",
       "      <td>0.066667</td>\n",
       "      <td>-2.284795</td>\n",
       "      <td>-1</td>\n",
       "    </tr>\n",
       "    <tr>\n",
       "      <th>21</th>\n",
       "      <td>3.734694e+09</td>\n",
       "      <td>0.066667</td>\n",
       "      <td>-1.713596</td>\n",
       "      <td>-1</td>\n",
       "    </tr>\n",
       "  </tbody>\n",
       "</table>\n",
       "</div>"
      ],
      "text/plain": [
       "            Time  Magnitude     Angle TrialFrame\n",
       "0   3.734694e+09   0.015000  0.000000          6\n",
       "1   3.734694e+09   0.033333  0.000000       1007\n",
       "2   3.734694e+09   0.033333  0.571199       2009\n",
       "3   3.734694e+09   0.033333  1.142397       3011\n",
       "4   3.734694e+09   0.033333  1.713596       4013\n",
       "5   3.734694e+09   0.033333  2.284795       5015\n",
       "6   3.734694e+09   0.033333  2.855993       6017\n",
       "7   3.734694e+09   0.033333 -2.855994       7019\n",
       "8   3.734694e+09   0.033333 -2.284795       8021\n",
       "9   3.734694e+09   0.033333 -1.713596       9023\n",
       "10  3.734694e+09   0.033333 -1.142397      10025\n",
       "11  3.734694e+09   0.033333 -0.571199         -1\n",
       "12  3.734694e+09   0.033333  0.000000         -1\n",
       "13  3.734694e+09   0.066667  0.000000         -1\n",
       "14  3.734694e+09   0.066667  0.571199         -1\n",
       "15  3.734694e+09   0.066667  1.142397         -1\n",
       "16  3.734694e+09   0.066667  1.713596         -1\n",
       "17  3.734694e+09   0.066667  2.284795         -1\n",
       "18  3.734694e+09   0.066667  2.855993         -1\n",
       "19  3.734694e+09   0.066667 -2.855994         -1\n",
       "20  3.734694e+09   0.066667 -2.284795         -1\n",
       "21  3.734694e+09   0.066667 -1.713596         -1"
      ]
     },
     "execution_count": 113,
     "metadata": {},
     "output_type": "execute_result"
    }
   ],
   "source": [
    "arm_instructions"
   ]
  },
  {
   "cell_type": "code",
   "execution_count": null,
   "metadata": {},
   "outputs": [],
   "source": []
  }
 ],
 "metadata": {
  "interpreter": {
   "hash": "09bd21bb92291494554824029e1a9dff7dc56aa6d478169471a2232705d1a524"
  },
  "kernelspec": {
   "display_name": "Python 3.9.7 ('base')",
   "language": "python",
   "name": "python3"
  },
  "language_info": {
   "codemirror_mode": {
    "name": "ipython",
    "version": 3
   },
   "file_extension": ".py",
   "mimetype": "text/x-python",
   "name": "python",
   "nbconvert_exporter": "python",
   "pygments_lexer": "ipython3",
   "version": "3.9.7"
  },
  "orig_nbformat": 4
 },
 "nbformat": 4,
 "nbformat_minor": 2
}
