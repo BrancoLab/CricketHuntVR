{
 "cells": [
  {
   "cell_type": "code",
   "execution_count": 8,
   "metadata": {},
   "outputs": [],
   "source": [
    "import numpy as np\n",
    "import matplotlib.pyplot as plt\n",
    "import pandas as pd\n",
    "from pathlib import Path\n",
    "import seaborn as sns"
   ]
  },
  {
   "cell_type": "code",
   "execution_count": 9,
   "metadata": {},
   "outputs": [],
   "source": [
    "#General visualization settings\n",
    "sns.set_style('darkgrid') # darkgrid, white grid, dark, white and ticks\n",
    "plt.rc('axes', titlesize=18)     # fontsize of the axes title\n",
    "plt.rc('axes', labelsize=14)    # fontsize of the x and y labels\n",
    "plt.rc('xtick', labelsize=13)    # fontsize of the tick labels\n",
    "plt.rc('ytick', labelsize=13)    # fontsize of the tick labels\n",
    "plt.rc('legend', fontsize=13)    # legend fontsize\n",
    "plt.rc('font', size=13)"
   ]
  },
  {
   "cell_type": "code",
   "execution_count": 10,
   "metadata": {},
   "outputs": [],
   "source": [
    "#Path settings\n",
    "root_path = Path(r\"C:\\Users\\neurogears\\OneDrive - NeuroGEARS Ltd\\CricketPrelemdata\\ArmBenchmarking\")\n",
    "session_id = \"05_06_2022_16_02_29\"\n",
    "session_path = root_path / session_id\n"
   ]
  },
  {
   "cell_type": "markdown",
   "metadata": {},
   "source": [
    "#### SWC-HARP and CF-HARP timing benchmarking"
   ]
  },
  {
   "cell_type": "code",
   "execution_count": 30,
   "metadata": {},
   "outputs": [
    {
     "name": "stdout",
     "output_type": "stream",
     "text": [
      "[0.98192024 0.98870039 0.9791398  0.97840023 0.98842001 0.97871971\n",
      " 0.98880005 0.98867989 0.97863007 0.98921013 0.98883009 0.97833014\n",
      " 0.97907972 0.97859001 0.97846985 0.98912001 0.97901011 0.98863983\n",
      " 0.97898006 0.98863983 0.98875999 0.97874975]\n",
      "Mean±std  :  983.45 [ms] ± 4.92\n"
     ]
    },
    {
     "data": {
      "image/png": "[encoded data removed]",
      "text/plain": [
       "<Figure size 432x288 with 1 Axes>"
      ]
     },
     "metadata": {},
     "output_type": "display_data"
    }
   ],
   "source": [
    "## Compare SWC-HARP and CF-HARP timestamping\n",
    "\n",
    "#Load data from SWC-HARP\n",
    "#Note: ARM gpio event is triggered on a falling edge\n",
    "arm_falling_edge = pd.read_csv(session_path / \"ArmFallingEdgeDetection.csv\")\n",
    "arm_falling_edge = arm_falling_edge[\"ToString()\"].values\n",
    "\n",
    "#Load data from CF-HARP\n",
    "#Note: there is a bug wherein i am using the rising edge of a very short pulse.\n",
    "#Should fix in the future!\n",
    "harp_io = pd.read_csv(session_path / \"BehaviorSynchPulse.csv\")\n",
    "harp_falling_edge = harp_io[\"Seconds\"].values\n",
    "\n",
    "#Calculate the timing difference\n",
    "deltaTS = harp_falling_edge - arm_falling_edge\n",
    "\n",
    "#Plot the distribution of the differences\n",
    "plt.figure()\n",
    "plt.hist(deltaTS*1000)\n",
    "plt.xlabel(\"TS(HARP) - TS(ARM) [milliseconds]\")\n",
    "plt.ylabel(\"Trial count\")\n",
    "plt.title(\"Difference in HARP timings\")\n",
    "print(deltaTS)\n",
    "print(\"Mean±std  :  {0:.2f} [ms] ± {1:.2f}\".format(np.mean(deltaTS*1000), np.std(deltaTS*1000)))"
   ]
  },
  {
   "cell_type": "code",
   "execution_count": null,
   "metadata": {},
   "outputs": [],
   "source": []
  }
 ],
 "metadata": {
  "interpreter": {
   "hash": "09bd21bb92291494554824029e1a9dff7dc56aa6d478169471a2232705d1a524"
  },
  "kernelspec": {
   "display_name": "Python 3.9.7 ('base')",
   "language": "python",
   "name": "python3"
  },
  "language_info": {
   "codemirror_mode": {
    "name": "ipython",
    "version": 3
   },
   "file_extension": ".py",
   "mimetype": "text/x-python",
   "name": "python",
   "nbconvert_exporter": "python",
   "pygments_lexer": "ipython3",
   "version": "3.9.7"
  },
  "orig_nbformat": 4
 },
 "nbformat": 4,
 "nbformat_minor": 2
}
