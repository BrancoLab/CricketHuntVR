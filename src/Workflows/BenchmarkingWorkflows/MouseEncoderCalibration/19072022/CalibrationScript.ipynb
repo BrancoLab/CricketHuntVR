{
 "cells": [
  {
   "cell_type": "code",
   "execution_count": 6,
   "metadata": {},
   "outputs": [],
   "source": [
    "import numpy as np\n",
    "import pandas as pd\n",
    "import matplotlib.pyplot as plt\n",
    "import math\n"
   ]
  },
  {
   "cell_type": "code",
   "execution_count": 11,
   "metadata": {},
   "outputs": [
    {
     "data": {
      "image/png": "[encoded data removed]",
      "text/plain": [
       "<Figure size 432x288 with 1 Axes>"
      ]
     },
     "metadata": {
      "needs_background": "light"
     },
     "output_type": "display_data"
    },
    {
     "name": "stdout",
     "output_type": "stream",
     "text": [
      "375.99877840631\n",
      "23624.7\n"
     ]
    }
   ],
   "source": [
    "from cProfile import label\n",
    "\n",
    "\n",
    "f1 = r\"C:\\Users\\Cricket Team\\Documents\\git\\BrancoLab\\CricketHuntVR\\src\\Workflows\\BenchmarkingWorkflows\\MouseEncoderCalibration\\19072022\\FrontBack2022-07-19T16_55_41.csv\"\n",
    "f2 = r\"C:\\Users\\Cricket Team\\Documents\\git\\BrancoLab\\CricketHuntVR\\src\\Workflows\\BenchmarkingWorkflows\\MouseEncoderCalibration\\19072022\\FrontBack2022-07-19T16_58_33.csv\"\n",
    "s1 = r\"C:\\Users\\Cricket Team\\Documents\\git\\BrancoLab\\CricketHuntVR\\src\\Workflows\\BenchmarkingWorkflows\\MouseEncoderCalibration\\19072022\\LeftRight2022-07-19T16_55_41.csv\"\n",
    "s2 = r\"C:\\Users\\Cricket Team\\Documents\\git\\BrancoLab\\CricketHuntVR\\src\\Workflows\\BenchmarkingWorkflows\\MouseEncoderCalibration\\19072022\\LeftRight2022-07-19T16_58_33.csv\"\n",
    "f3 = r\"C:\\Users\\Cricket Team\\Documents\\git\\BrancoLab\\CricketHuntVR\\src\\Workflows\\BenchmarkingWorkflows\\MouseEncoderCalibration\\19072022\\FrontBack2022-07-19T17_22_47.csv\"\n",
    "s3 = r\"C:\\Users\\Cricket Team\\Documents\\git\\BrancoLab\\CricketHuntVR\\src\\Workflows\\BenchmarkingWorkflows\\MouseEncoderCalibration\\19072022\\LeftRight2022-07-19T17_22_47.csv\"\n",
    "data = [f3]\n",
    "\n",
    "plt.figure()\n",
    "i = 0\n",
    "for file in data:\n",
    "    d = pd.read_csv(file)[\"ToString()\"].values\n",
    "    d = d-d[0]\n",
    "    i+=1\n",
    "    plt.plot(d, label = i)\n",
    "plt.legend()\n",
    "plt.show()\n",
    "\n",
    "myRange = np.max(d) - np.min(d)\n",
    "turnRange = myRange/20 #20 turns\n",
    "circ = 2 * math.pi * (.2/2)\n",
    "calibration = turnRange/circ # mouseunits per m\n",
    "print(calibration/100)\n",
    "print(turnRange)\n"
   ]
  },
  {
   "cell_type": "code",
   "execution_count": null,
   "metadata": {},
   "outputs": [],
   "source": []
  },
  {
   "cell_type": "code",
   "execution_count": null,
   "metadata": {},
   "outputs": [],
   "source": []
  }
 ],
 "metadata": {
  "kernelspec": {
   "display_name": "Python 3.10.4 ('CricketVR')",
   "language": "python",
   "name": "python3"
  },
  "language_info": {
   "codemirror_mode": {
    "name": "ipython",
    "version": 3
   },
   "file_extension": ".py",
   "mimetype": "text/x-python",
   "name": "python",
   "nbconvert_exporter": "python",
   "pygments_lexer": "ipython3",
   "version": "3.10.4"
  },
  "orig_nbformat": 4,
  "vscode": {
   "interpreter": {
    "hash": "2583c65745e012f7d9178d15b03b0eb02f20127d57326bd1e20de90683ab736d"
   }
  }
 },
 "nbformat": 4,
 "nbformat_minor": 2
}
